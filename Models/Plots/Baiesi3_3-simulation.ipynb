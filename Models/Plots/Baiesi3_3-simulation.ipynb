{
 "cells": [
  {
   "cell_type": "markdown",
   "metadata": {},
   "source": [
    "Consider a random variable $X$ with distribution $p(x)$ given by:\n",
    "$$ p(x) = \\begin{cases}\n",
    "\\frac{1}{4x^2} & |x| > 1\\\\\n",
    "\\frac{1}{4} & |x| \\leq 1\n",
    "\\end{cases} \\qquad x \\in \\mathbb{R}$$\n",
    "\n",
    "To generate samples from $p(x)$ we use the *inverse transform method*, that is we generate uniform samples inside a domain $D$ we are interested in, and transform them into samples from $p(x)$ by using the inverse of its Cumulative Distribution Function. So, we need to invert:\n",
    "\n",
    "$$ \\int_{-\\infty}^{x} p(x') {\\rm d}x' = z \\label{eqn:int}\\tag{1} $$\n",
    "\n",
    "To evaluate the integral, we need to distinguish $3$ cases:\n",
    "\n",
    "1. If $x < -1$, then (\\ref{eqn:int}) becomes:\n",
    "$$ \\int_{-\\infty}^{x} \\frac{1}{4x^2} {\\rm d}x = -\\frac{1}{4x} \\Big|_{-\\infty}^{x} = - \\frac{1}{4x} = z \\Rightarrow x = -\\frac{1}{4z} $$\n",
    "As $x < -1$, $-1/(4x) = z < 1/4$.\n",
    "\n",
    "2. If $-1 \\leq x \\leq 1$, then (\\ref{eqn:int}) becomes:\n",
    "$$ -\\frac{1}{4x}\\Big|_{-\\infty}^{1} + \\int_{-1}^x \\frac{1}{4} {\\rm d}x = \\frac{1}{4} + \\frac{1}{4} (x+1) = z \\Rightarrow x = 4z - 2$$\n",
    "Moreover, $-1 \\leq x \\leq 1$ implies $1/4 \\leq (x+2)/4 \\leq 3/4$ and so $1/4 \\leq z \\leq 3/4$.\n",
    "\n",
    "3. Finally, if $x > 1$ we have:\n",
    "$$ \\frac{1}{4} + \\frac{1}{2} + \\int_1^x \\frac{1}{4x^2} {\\rm d}x = \\frac{3}{4} - \\frac{1}{4x} \\Big|_{1}^{x} = 1- \\frac{1}{4x} = z \\Rightarrow x= \\frac{1}{4(1-z)} $$\n",
    "As $x > 1$, $1-1/(4x) = z > 3/4$\n",
    "\n",
    "Summarizing:\n",
    "$$ x = \\begin{cases}\n",
    "-\\frac{1}{4z} & z < \\frac{1}{4}\\\\\n",
    "4z -2 & \\frac{1}{4} \\leq z \\leq \\frac{3}{4}\\\\\n",
    "\\frac{1}{4(1-z)} & z > \\frac{3}{4}\n",
    "\\end{cases} \\qquad z \\in (0,1) $$"
   ]
  },
  {
   "cell_type": "code",
   "execution_count": 1,
   "metadata": {},
   "outputs": [],
   "source": [
    "%matplotlib inline\n",
    "import numpy as np\n",
    "import matplotlib.pyplot as plt\n",
    "\n",
    "def inv_transform(z): #vectorize with numpy for better performance\n",
    "    cond1 = z < 1/4\n",
    "    cond2 = np.logical_and(z <= 3/4, np.logical_not(cond1))\n",
    "    cond3 = z > 3/4\n",
    "    \n",
    "    case1 = np.where(cond1, -1./(4*z), z)\n",
    "    case2 = np.where(cond2, 4*z-2, case1)\n",
    "    case3 = np.where(cond3, 1/(4*(1-z)), case2)\n",
    "\n",
    "    return case3"
   ]
  },
  {
   "cell_type": "code",
   "execution_count": 2,
   "metadata": {},
   "outputs": [
    {
     "name": "stdout",
     "output_type": "stream",
     "text": [
      "185 µs ± 390 ns per loop (mean ± std. dev. of 7 runs, 10000 loops each)\n"
     ]
    }
   ],
   "source": [
    "num_samples = 10000\n",
    "samples = np.random.uniform(size=num_samples)\n",
    "\n",
    "%timeit a = inv_transform(samples) #1000 times faster"
   ]
  },
  {
   "cell_type": "code",
   "execution_count": 3,
   "metadata": {},
   "outputs": [],
   "source": [
    "#Comparison with usual python function\n",
    "\n",
    "def inv_transform_scalar(z):\n",
    "    if z < 1/4:\n",
    "        return -1/(4*z)\n",
    "    elif z <= 3/4:\n",
    "        return 4*z - 2\n",
    "    else:\n",
    "        return 1/(4*(1-z))"
   ]
  },
  {
   "cell_type": "code",
   "execution_count": 4,
   "metadata": {},
   "outputs": [],
   "source": [
    "#%timeit b = np.array([inv_transform_scalar(z) for z in samples])"
   ]
  },
  {
   "cell_type": "code",
   "execution_count": 5,
   "metadata": {},
   "outputs": [],
   "source": [
    "#a = inv_transform(samples)\n",
    "#b = np.array([inv_transform_scalar(z) for z in samples])\n",
    "#np.all(a == b) #it works"
   ]
  },
  {
   "cell_type": "markdown",
   "metadata": {},
   "source": [
    "Let $Y$ be the random variable with Cauchy Distribution:\n",
    "$$ Y \\sim p(Y) = \\frac{1}{\\pi(1+Y^2)} $$\n",
    "We suppose that $Y_n$, which is the rescaled sum of $n$ random variables each following the distribution $p(x)$ defined above, distributes the same as $Y$. We wish to find explicitly the normalization required, splitting it in a common factor and a power of $n$:\n",
    "\n",
    "$$ Y_n = \\frac{\\gamma S_n}{n^\\beta} $$\n",
    "\n",
    "Intuitively, we expect $\\beta$ to be close to $1$ (as it happens in the CLT), and so we define $\\beta = 1+\\alpha$ and $s= S_n/n$ so that:\n",
    "\n",
    "$$ Y_n = \\frac{\\gamma}{n^\\alpha} s $$\n",
    "\n",
    "Finally, we call $\\delta = \\gamma/n^\\alpha$, so that:\n",
    "$$ Y_n = \\delta s $$\n",
    "So that it will be easier to make a fit. We deduce the distribution of $s$ with a change of random variables:\n",
    "\n",
    "$$ p(s) = p(Y) \\frac{{\\rm d}Y}{{\\rm{d}s}} = \\frac{\\delta}{\\pi(1+\\delta^2 s^2)}$$\n",
    "\n",
    "First, we choose a $n$, produce many samples of $s$, and fit their distribution with the expression for $p(s)$, leading to an estimate of $\\delta$. By repeating this process for different values of $n$, we will be able to fit $\\delta = \\gamma/n^\\alpha$ and find $\\alpha$ and $\\gamma$."
   ]
  },
  {
   "cell_type": "code",
   "execution_count": 6,
   "metadata": {},
   "outputs": [],
   "source": [
    "from scipy.optimize import curve_fit\n",
    "\n",
    "def dist_s(s, delta):\n",
    "    return delta / (np.pi * (1 + np.square(delta * s)))\n",
    "\n",
    "num_samples = 100000\n",
    "def find_delta(N, ax = None, show_plot=True):\n",
    "    #generate num_samples of sums of N variables\n",
    "    uniform_samples = np.random.uniform(size=(num_samples, N))\n",
    "    p_samples = inv_transform(uniform_samples)\n",
    "    \n",
    "    s_samples = np.sum(p_samples, axis=1) / N\n",
    "        \n",
    "    if show_plot:\n",
    "        if ax == None:\n",
    "            fig, ax = plt.subplots()\n",
    "        ys, bins, _ = ax.hist(s_samples, 1000, range=(-10,10), density=True, label=\"Samples\", alpha=.7)\n",
    "        ax.set_title(\"N = {}\".format(N))\n",
    "        ax.set_xlabel(\"s\")\n",
    "        ax.set_ylabel(\"pdf\")\n",
    "    else:\n",
    "        ys, bins = np.histogram(s_samples, 1000, range=(-10, 10), density=True)\n",
    "    \n",
    "    centerbins = (bins[1:] + bins[:-1])/2\n",
    "    popt, pcov = curve_fit(dist_s, centerbins, ys)\n",
    "    delta = popt[0]\n",
    "    deltaerr = np.sqrt(np.diag(pcov)[0])\n",
    "    \n",
    "    if show_plot:\n",
    "        xs = np.linspace(-10, 10, 100)\n",
    "        ax.plot(xs, dist_s(xs, *popt), '--r', label=\"Fit\")\n",
    "        plt.legend()\n",
    "    \n",
    "    print(delta, deltaerr)\n",
    "    \n",
    "    return (delta, deltaerr)\n",
    "   \n",
    "    "
   ]
  },
  {
   "cell_type": "code",
   "execution_count": 7,
   "metadata": {},
   "outputs": [
    {
     "name": "stdout",
     "output_type": "stream",
     "text": [
      "1.2965560197554158 0.0038352466960235314\n"
     ]
    },
    {
     "data": {
      "text/plain": [
       "(1.2965560197554158, 0.0038352466960235314)"
      ]
     },
     "execution_count": 7,
     "metadata": {},
     "output_type": "execute_result"
    }
   ],
   "source": [
    "find_delta(10, show_plot=False)"
   ]
  },
  {
   "cell_type": "code",
   "execution_count": 8,
   "metadata": {},
   "outputs": [
    {
     "name": "stdout",
     "output_type": "stream",
     "text": [
      "1.2483402401327213 0.004382222167020101\n",
      "1.33493899855975 0.003807505659440816\n",
      "1.3313614733803678 0.00373474232082118\n",
      "1.3370761888138842 0.0037985959565881708\n"
     ]
    }
   ],
   "source": [
    "#compute delta at various N\n",
    "Ns = [5, 50, 500, 1000]\n",
    "\n",
    "deltas = [find_delta(n, show_plot=False)[0] for n in Ns]"
   ]
  },
  {
   "cell_type": "code",
   "execution_count": 9,
   "metadata": {},
   "outputs": [
    {
     "data": {
      "image/png": "[encoded data removed]",
      "text/plain": [
       "<Figure size 432x288 with 1 Axes>"
      ]
     },
     "metadata": {
      "needs_background": "light"
     },
     "output_type": "display_data"
    }
   ],
   "source": [
    "def delta_func(n, gamma, alpha):\n",
    "    return gamma / (n**alpha)\n",
    "\n",
    "(gamma, alpha), pcov = curve_fit(delta_func, Ns, deltas)\n",
    "\n",
    "xs = np.linspace(5, 5000, 100)\n",
    "plt.scatter(Ns, deltas, marker='x', c='r', label='Datapoints')\n",
    "plt.plot(xs, delta_func(xs, gamma, alpha), '--b', label='Fit')\n",
    "plt.legend()\n",
    "plt.show()"
   ]
  },
  {
   "cell_type": "code",
   "execution_count": 10,
   "metadata": {},
   "outputs": [
    {
     "name": "stdout",
     "output_type": "stream",
     "text": [
      "gamma = 1.2439 +- 0.0338\n",
      "alpha = -0.0115 +- 0.0052\n"
     ]
    }
   ],
   "source": [
    "(gammaerr, alphaerr) = np.sqrt(np.diag(pcov))\n",
    "print(\"gamma = {:.4f} +- {:.4f}\".format(gamma, gammaerr))\n",
    "print(\"alpha = {:.4f} +- {:.4f}\".format(alpha, alphaerr))"
   ]
  }
 ],
 "metadata": {
  "kernelspec": {
   "display_name": "Python 3",
   "language": "python",
   "name": "python3"
  },
  "language_info": {
   "codemirror_mode": {
    "name": "ipython",
    "version": 3
   },
   "file_extension": ".py",
   "mimetype": "text/x-python",
   "name": "python",
   "nbconvert_exporter": "python",
   "pygments_lexer": "ipython3",
   "version": "3.8.1"
  }
 },
 "nbformat": 4,
 "nbformat_minor": 2
}
